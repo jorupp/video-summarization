{
 "cells": [
  {
   "cell_type": "code",
   "execution_count": null,
   "metadata": {},
   "outputs": [],
   "source": [
    "import os\n",
    "import subprocess\n",
    "source_dir = \"C:\\\\projects\\\\local\\\\video_analysis\"\n",
    "ffmpeg_path = os.environ['LOCALAPPDATA'] + \"\\\\Microsoft\\\\WinGet\\\\Packages\\\\Gyan.FFmpeg_Microsoft.Winget.Source_8wekyb3d8bbwe\\\\ffmpeg-6.0-full_build\\\\bin\\\\ffmpeg.exe\"\n",
    "import whisper\n"
   ]
  },
  {
   "cell_type": "code",
   "execution_count": null,
   "metadata": {},
   "outputs": [],
   "source": [
    "# find all mp4 files in source_dir (and subdirectories) that do not yet have a mp3 file and convert them with ffmpeg\n",
    "def process_files():\n",
    "    for root, dirs, files in os.walk(source_dir):\n",
    "        for file in files:\n",
    "            if file.endswith(\".mp4\"):\n",
    "                mp4_file = os.path.join(root, file)\n",
    "                mp3_file = mp4_file[:-4] + '.mp3'\n",
    "                if not os.path.isfile(mp3_file):\n",
    "                    cmd = [ffmpeg_path, '-i', mp4_file, '-vn', '-ar', '44100', '-ac', '2', '-ab', '192k', '-f', 'mp3', mp3_file]\n",
    "                    print(cmd)\n",
    "                    proc = subprocess.Popen(cmd)\n",
    "                    result = proc.wait()\n",
    "                    print(\"{} - processed from {}\".format(result, mp4_file))\n",
    "process_files()\n",
    "print('generated MP3s for all MP4s in ' + source_dir)\n",
    "\n"
   ]
  },
  {
   "cell_type": "code",
   "execution_count": null,
   "metadata": {},
   "outputs": [],
   "source": [
    "model = whisper.load_model('medium.en', device='cuda')\n",
    "\n",
    "# find all mp3 files in source_dir (and subdirectories) that do not yet have a txt file and convert them with whisper\n",
    "def process_files():\n",
    "    for root, dirs, files in os.walk(source_dir):\n",
    "        for file in files:\n",
    "            if file.endswith(\".mp3\"):\n",
    "                mp3_file = os.path.join(root, file)\n",
    "                txt_file = mp3_file[:-4] + '.txt'\n",
    "                if not os.path.isfile(txt_file):\n",
    "                    print('processing {}'.format(mp3_file))\n",
    "                    result = model.transcribe(mp3_file)\n",
    "                    # result has the following structure:\n",
    "                    #  text: string\n",
    "                    #  language: string\n",
    "                    #  segments: array of\n",
    "                    #    id: number\n",
    "                    #    seek: number\n",
    "                    #    start: number\n",
    "                    #    end: number\n",
    "                    #    text: string\n",
    "                    #    tokens: number[]\n",
    "                    #    temperature: number\n",
    "                    #    avg_logprob: number\n",
    "                    #    compression_ratio: number\n",
    "                    #    no_speech_prob: number\n",
    "\n",
    "                    # if we used text, we'll get one giant line.  Instead, we'll use segments\n",
    "                    print('got {} segments from {}'.format(len(result['segments']), mp3_file))\n",
    "                    with open(txt_file, 'w') as f:\n",
    "                        for segment in result['segments']:\n",
    "                            f.write(segment['text'] + '\\n')\n",
    "                    print('wrote to {}'.format(txt_file))\n",
    "process_files()\n",
    "print('generated TXTs for all MP3s in ' + source_dir)\n"
   ]
  }
 ],
 "metadata": {
  "kernelspec": {
   "display_name": ".venv",
   "language": "python",
   "name": "python3"
  },
  "language_info": {
   "codemirror_mode": {
    "name": "ipython",
    "version": 3
   },
   "file_extension": ".py",
   "mimetype": "text/x-python",
   "name": "python",
   "nbconvert_exporter": "python",
   "pygments_lexer": "ipython3",
   "version": "3.10.11"
  },
  "orig_nbformat": 4
 },
 "nbformat": 4,
 "nbformat_minor": 2
}
